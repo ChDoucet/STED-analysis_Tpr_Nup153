{
 "cells": [
  {
   "cell_type": "markdown",
   "metadata": {},
   "source": [
    "# STED analysis Tpr Nup153\n",
    "\n",
    "## Analysis of circularity and Tpr-Nup153 distances\n",
    "\n",
    "#### 23/06/21\n",
    "\n",
    "STED images were segmented with a code written in Matlab. Automatic threshold, watershed segmentation, region properties...\n",
    "\n",
    "- Nup153 and Tpr circularity\n",
    "- Nup153 and Tpr centroids\n",
    "- distances between Nup153 and Tpr centroids (in nm)\n",
    "\n",
    "This information is stored in 3 separate txt files.\n",
    "\n",
    "----\n",
    "\n",
    "Here the goal is to build histograms from these data and fit them with Gaussians.\n",
    "=> is the distribution normal ?\n",
    "=> is it possible to identify several populations ?\n",
    "\n",
    "\n"
   ]
  },
  {
   "cell_type": "code",
   "execution_count": null,
   "metadata": {},
   "outputs": [],
   "source": [
    "%matplotlib inline"
   ]
  },
  {
   "cell_type": "code",
   "execution_count": 13,
   "metadata": {},
   "outputs": [
    {
     "data": {
      "text/plain": [
       "(array([0.0033101 , 0.00946574, 0.01416957, 0.01922184, 0.0242741 ,\n",
       "        0.03281069, 0.0311266 , 0.03484321, 0.03333333, 0.03281069,\n",
       "        0.03164925, 0.0304878 , 0.02775842, 0.02915215, 0.02363531,\n",
       "        0.020964  , 0.01660859, 0.01376307, 0.01428571, 0.01080139,\n",
       "        0.00853659, 0.00760743, 0.0054007 , 0.00499419, 0.00447154,\n",
       "        0.00238095, 0.00214866, 0.00162602, 0.0014518 , 0.0014518 ,\n",
       "        0.00110337, 0.0004065 , 0.00069686, 0.00069686, 0.00029036,\n",
       "        0.00069686, 0.00034843, 0.00063879, 0.00046458, 0.00011614]),\n",
       " array([ 0.,  2.,  4.,  6.,  8., 10., 12., 14., 16., 18., 20., 22., 24.,\n",
       "        26., 28., 30., 32., 34., 36., 38., 40., 42., 44., 46., 48., 50.,\n",
       "        52., 54., 56., 58., 60., 62., 64., 66., 68., 70., 72., 74., 76.,\n",
       "        78., 80.]),\n",
       " <BarContainer object of 40 artists>)"
      ]
     },
     "execution_count": 13,
     "metadata": {},
     "output_type": "execute_result"
    },
    {
     "data": {
      "image/png": "[encoded data removed]",
      "text/plain": [
       "<Figure size 720x360 with 2 Axes>"
      ]
     },
     "metadata": {
      "needs_background": "light"
     },
     "output_type": "display_data"
    }
   ],
   "source": [
    "import numpy as np\n",
    "import pandas as pd\n",
    "import matplotlib.pyplot as plt\n",
    "\n",
    "\n",
    "TprData=pd.read_csv('/Users/christine/Documents/Data/STED/Pore_analysis_Nup153_Tpr/Data/scrambled/8bit/TprCircularity.txt').values\n",
    "Nup153Data=pd.read_csv('/Users/christine/Documents/Data/STED/Pore_analysis_Nup153_Tpr/Data/scrambled/8bit/Nup153Circularity.txt').values\n",
    "distances=pd.read_csv('/Users/christine/Documents/Data/STED/Pore_analysis_Nup153_Tpr/Data/scrambled/8bit/distances.txt').values\n",
    "\n",
    "\n",
    "distData, dData = np.histogram(distances, bins=20, range=(0,80), density=True)\n",
    "\n",
    "fig, (ax1,ax2) = plt.subplots(nrows=1, ncols=2, figsize=(10,5))\n",
    "ax1.hist(TprData, bins=30, range=(0,3), density=True, alpha=0.5)\n",
    "ax1.hist(Nup153Data, bins=30, range=(0,3), density=True, alpha=0.5)\n",
    "\n",
    "ax2.hist(distances, bins=40, range=(0,80), density=True, alpha=0.5)\n",
    "\n"
   ]
  }
 ],
 "metadata": {
  "kernelspec": {
   "display_name": "Python 3",
   "language": "python",
   "name": "python3"
  },
  "language_info": {
   "codemirror_mode": {
    "name": "ipython",
    "version": 3
   },
   "file_extension": ".py",
   "mimetype": "text/x-python",
   "name": "python",
   "nbconvert_exporter": "python",
   "pygments_lexer": "ipython3",
   "version": "3.8.5"
  }
 },
 "nbformat": 4,
 "nbformat_minor": 4
}
